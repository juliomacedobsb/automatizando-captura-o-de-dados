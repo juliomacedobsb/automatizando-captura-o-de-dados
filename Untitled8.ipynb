{
  "nbformat": 4,
  "nbformat_minor": 0,
  "metadata": {
    "colab": {
      "name": "Untitled8.ipynb",
      "provenance": [],
      "authorship_tag": "ABX9TyNj6NNhf3wMaaElz63N+GnD"
    },
    "kernelspec": {
      "name": "python3",
      "display_name": "Python 3"
    },
    "language_info": {
      "name": "python"
    }
  },
  "cells": [
    {
      "cell_type": "markdown",
      "source": [
        "importando dados da olx utilizando bs4 - requests"
      ],
      "metadata": {
        "id": "Q0YoRiojMkJp"
      }
    },
    {
      "cell_type": "code",
      "execution_count": 1,
      "metadata": {
        "id": "og9qggs3MZLY"
      },
      "outputs": [],
      "source": [
        "\n",
        "from bs4 import BeautifulSoup \n",
        "import requests \n",
        "import re\n",
        "headers = ({'User-agent': \n",
        "\t'Mozilla/5.0 (X11; Ubuntu; Linux x86_64; rv:102.0) Gecko/20100101 Firefox/102.0'})"
      ]
    },
    {
      "cell_type": "code",
      "source": [
        "url = 'https://www.olx.com.br/imoveis/aluguel'\n",
        "site = requests.get(url, headers=headers)\n",
        "soup = BeautifulSoup(site.content, 'html.parser')"
      ],
      "metadata": {
        "id": "lGux6wXJMcAb"
      },
      "execution_count": 3,
      "outputs": []
    },
    {
      "cell_type": "code",
      "source": [
        "anuncios = soup.find('div', class_='h3us20-6 dQYDAH').getText().split()\n",
        "print(anuncios)"
      ],
      "metadata": {
        "colab": {
          "base_uri": "https://localhost:8080/"
        },
        "id": "-FHx3XnUM3LI",
        "outputId": "02b0bbce-8256-43b6-984f-ae2a6ff33e3e"
      },
      "execution_count": 4,
      "outputs": [
        {
          "output_type": "stream",
          "name": "stdout",
          "text": [
            "['15Kitnet/conjugado', 'para', 'aluguel', 'tem', '31', 'metros', 'quadrados', 'com', '1', 'quarto', 'em', 'Bela', 'Vista', '-', 'São', 'Pau1', 'quarto', '|', '31m²', '|', 'Condomínio:', 'R$', '390', '|', 'R$', '1.300ProfissionalSão', 'Paulo', '-', 'SPHoje,', '17:0720Apartamento', 'Parque', 'Valentina', 'Miranda', 'c/', '3qts,', 'send', '1suíte,', '2brs,', '1vg,', 'amrs,', 'varand,', 'hidro3', 'quartos', '|', '70m²', '|', 'Condomínio:', 'R$', '0', '|', '1', 'vaga', '|', 'R$', '2.500ProfissionalMacaé', '-', 'RJHoje,', '17:0720Casa', 'com', '3', 'dormitórios,', '309', 'm²', '-', 'venda', 'por', 'R$', '1.700.000,00', 'ou', 'aluguel', 'por', 'R$', '8.500,00/mês', '3', 'quartos', '|', '309m²', '|', 'Condomínio:', 'R$', '650', '|', 'R$', '8.500ProfissionalGoiânia', '-', 'GOHoje,', '17:0616Alugo', 'Casa', 'Parte', 'Alta', 'na', 'Ilha', 'dos', 'Araújos3', 'quartos', '|', '376m²', '|', 'Condomínio:', 'R$', '0', '|', '5', 'ou', 'mais', 'vagas', '|', 'R$', '8.000ProfissionalGovernador', 'Valadares', '-', 'MGHoje,', '17:0617DESTAQUEAluguel-Ap', 'Ponta', 'Negra,', 'a', '250m', 'da', 'praia', 'e', 'Shopping', '2', 'quartos', '|', '48m²', '|', '1', 'vaga', '|', 'R$', '1.400Natal', '-', 'RNHoje,', '17:064Apartamento,', '224', 'm²', '-', 'venda', 'por', 'R$', '1.550.000,00', 'ou', 'aluguel', 'por', 'R$', '6.000,00/mês', '-', 'Jardim', 'Fo5', 'ou', 'mais', 'quartos', '|', '224m²', '|', 'Condomínio:', 'R$', '2.800', '|', 'R$', '6.000ProfissionalSão', 'Paulo', '-', 'SPHoje,', '17:0614Apartamento', 'para', 'aluguel', 'tem', '54', 'metros', 'quadrados', 'com', '1', 'quarto1', 'quarto', '|', '54m²', '|', 'Condomínio:', 'R$', '590', '|', 'R$', '1.600ProfissionalRibeirão', 'Preto', '-', 'SPHoje,', '17:0620Apartamento', 'para', 'aluguel', 'possui', '232,00', 'metros', 'quadrados', 'em', 'Leblon', '-', 'Rio', 'de', 'Janeiro', '-', 'RJ.4', 'quartos', '|', '232m²', '|', 'Condomínio:', 'R$', '5.641', '|', '3', 'vagas', '|', 'R$', '10.000ProfissionalRio', 'de', 'Janeiro', '-', 'RJHoje,', '17:0620APARTAMENTO', 'RESIDENCIAL', 'em', 'SÃO', 'PAULO', '-', 'SP,', 'PINHEIROS1', 'quarto', '|', '43m²', '|', 'Condomínio:', 'R$', '1.050', '|', '2', 'vagas', '|', 'R$', '3.450ProfissionalSão', 'Paulo', '-', 'SPHoje,', '17:0611Flat', 'em', 'pousada', 'boutique', 'na', 'rua', 'Aprazível', '-', 'melhor', 'ponto', 'de', 'Santa', 'Teresa1', 'quarto', '|', '20m²', '|', 'Condomínio:', 'R$', '0', '|', 'R$', '2.400ProfissionalRio', 'de', 'Janeiro', '-', 'RJHoje,', '17:0620Apartamento', 'de', '2', 'dormitórios', 'e', '1', 'vaga,', '47', 'm²', '-', 'Vila', 'Carmosina', '-', 'São', 'Paulo2', 'quartos', '|', '47m²', '|', 'Condomínio:', 'R$', '330', '|', '1', 'vaga', '|', 'R$', '1.700ProfissionalSão', 'Paulo', '-', 'SPHoje,', '17:0620Apartamento', 'com', '1', 'dormitório', 'para', 'alugar,', '35', 'm²', 'por', 'R$', '2.000,00/mês', '-', 'Aclimação', '-', 'São', 'Paul1', 'quarto', '|', '35m²', '|', 'Condomínio:', 'R$', '768', '|', '1', 'vaga', '|', 'R$', '2.000ProfissionalSão', 'Paulo', '-', 'SPHoje,', '17:0620ÓTIMO', 'APARTAMENTO', 'PARA', 'LOCAÇÃO', 'NO', 'PORTÃO', '60m²', 'COM', '3', 'QUARTOS', 'CURITIBA', '-', 'AP323', 'quartos', '|', '60m²', '|', 'Condomínio:', 'R$', '580', '|', '1', 'vaga', '|', 'R$', '1.210ProfissionalCuritiba', '-', 'PRHoje,', '17:0618Casa', 'Térrea', 'Jardim', 'São', 'João1', 'quarto', '|', '40m²', '|', 'Condomínio:', 'R$', '0', '|', 'R$', '600ProfissionalSão', 'Paulo', '-', 'SPHoje,', '17:06201Casa', 'Sobrado', 'com', 'Piscina', 'Aluguel', '3', 'Dormitórios', '200m²', '0734568073', 'quartos', '|', '200m²', '|', 'Condomínio:', 'R$', '0', '|', '3', 'vagas', '|', 'R$', '3.700ProfissionalSão', 'José', 'dos', 'Campos', '-', 'SPHoje,', '17:0617Piazza', 'di', 'Siena', '2', 'quartos', 'semi', 'mobiliado,', 'ótima', 'localização!2', 'quartos', '|', '60m²', '|', 'Condomínio:', 'R$', '0', '|', '1', 'vaga', '|', 'R$', '2.200ProfissionalCuiabá', '-', 'MTHoje,', '17:0619APARTAMENTO', '2', 'DORMITÓRIOS', '(1', 'SUÍTE)', 'E', 'LAZER-GONZAGA2', 'quartos', '|', '92m²', '|', 'Condomínio:', 'R$', '0', '|', '1', 'vaga', '|', 'R$', '4.200ProfissionalSantos', '-', 'SPHoje,', '17:0620APARTAMENTO', 'EM', 'MOEMA', 'PARA', 'LOCAÇÃO2', 'quartos', '|', '73m²', '|', 'Condomínio:', 'R$', '986', '|', '1', 'vaga', '|', 'R$', '2.899ProfissionalSão', 'Paulo', '-', 'SPHoje,', '17:0620Apartamento', 'com', '1', 'dormitório', 'para', 'alugar,', '55', 'm²', 'por', 'R$', '1.500,00/mês', '-', 'Capim', 'Macio', '-', 'Natal/1', 'quarto', '|', '55m²', '|', 'Condomínio:', 'R$', '344', '|', '2', 'vagas', '|', 'R$', '1.500ProfissionalNatal', '-', 'RNHoje,', '17:0614Kitnet', 'Vila', 'Barão1', 'quarto', '|', '30m²', '|', 'Condomínio:', 'R$', '0', '|', '1', 'vaga', '|', 'R$', '600ProfissionalSorocaba', '-', 'SPHoje,', '17:0620Apartamento', 'com', '3', 'dormitórios,', '141', 'm²', '-', 'venda', 'por', 'R$', '1.440.000,00', 'ou', 'aluguel', 'por', 'R$', '6.750,3', 'quartos', '|', '141m²', '|', 'Condomínio:', 'R$', '1.030', '|', '3', 'vagas', '|', 'R$', '6.750ProfissionalIndaiatuba', '-', 'SPHoje,', '17:0615Lindo', 'Apartamento', 'Mobiliado', 'na', 'Faria', 'Lima!!!2', 'quartos', '|', '71m²', '|', 'Condomínio:', 'R$', '1.100', '|', '1', 'vaga', '|', 'R$', '7.500ProfissionalSão', 'Paulo', '-', 'SPHoje,', '17:0620Apartamento', '2', 'quartos', 'Cachambi', '2', 'quartos', '|', '60m²', '|', 'Condomínio:', 'R$', '0', '|', '1', 'vaga', '|', 'R$', '1.250Rio', 'de', 'Janeiro', '-', 'RJHoje,', '17:0620Studo', 'para', 'locação', 'no', 'Juveve', 'Home', 'Studio1', 'quarto', '|', '33m²', '|', 'Condomínio:', 'R$', '440', '|', 'R$', '1.450ProfissionalCuritiba', '-', 'PRHoje,', '17:069DESTAQUEAluga', 'se', 'apartamento', 'nova', 'colina', 'em', 'frente', 'BR0201', 'quarto', '|', '40m²', '|', '1', 'vaga', '|', 'R$', '780Brasília', '-', 'DFHoje,', '17:0615SEM', 'IPTU', 'E', 'SEM', 'CONDOMÍNIO,', 'SÓ', 'ALUGUEL,', 'APROVEITE', 'EXCELENTE', 'APARTAMENTO', 'COMPOSTO', 'POR', 'SALA,', '1', 'quarto', '|', '47m²', '|', 'Condomínio:', 'R$', '0', '|', 'R$', '1.896ProfissionalRio', 'de', 'Janeiro', '-', 'RJHoje,', '17:0510Lindo', 'apartamento', '2Q.', 'mobiliado', 'no', 'Flamboyant!!2', 'quartos', '|', '60m²', '|', 'Condomínio:', 'R$', '0', '|', '1', 'vaga', '|', 'R$', '2.300ProfissionalCampos', 'dos', 'Goytacazes', '-', 'RJHoje,', '17:056Alugo', 'casa', '2', 'quartos', '|', '2', 'vagas', '|', 'R$', '750Araruama', '-', 'RJHoje,', '17:0517Apartamento', 'para', 'aluguel', 'com', '49', 'metros', 'quadrados', 'com', '2', 'quartos', 'em', 'Caji', '-', 'Lauro', 'de', 'Freitas', '2', 'quartos', '|', '49m²', '|', 'Condomínio:', 'R$', '0', '|', '1', 'vaga', '|', 'R$', '850ProfissionalLauro', 'de', 'Freitas', '-', 'BAHoje,', '17:0515Apto', 'NOVO', 'no', 'Jardim', 'Leblon', '-', 'Com', 'garden.2', 'quartos', '|', '50m²', '|', 'Condomínio:', 'R$', '0', '|', '1', 'vaga', '|', 'R$', '1.200ProfissionalCampo', 'Grande', '-', 'MSHoje,', '17:0520*TEMPORADA*', 'Apartamento', 'de', '3', 'quartos', '(sendo', '1', 'suíte)', 'no', 'coração', 'da', 'Meia', 'Praia!3', 'quartos', '|', '110m²', '|', 'Condomínio:', 'R$', '0', '|', '1', 'vaga', '|', 'R$', '300ProfissionalItapema', '-', 'SCHoje,', '17:058Casa', 'para', 'locaçao2', 'quartos', '|', 'R$', '550Presidente', 'Prudente', '-', 'SPHoje,', '17:0519Apartamento', 'com', '1', 'dormitório', 'para', 'alugar,', '45', 'm²', 'por', 'R$', '3.100,00/mês', '-', 'Vila', 'Mariana', '-', 'São', 'P1', 'quarto', '|', '45m²', '|', 'Condomínio:', 'R$', '921', '|', '1', 'vaga', '|', 'R$', '3.100ProfissionalSão', 'Paulo', '-', 'SPHoje,', '17:0520FLAT', '-', 'MOEMA', 'PÁSSAROS', '-', 'SP1', 'quarto', '|', '47m²', '|', 'Condomínio:', 'R$', '816', '|', '1', 'vaga', '|', 'R$', '4.500ProfissionalSão', 'Paulo', '-', 'SPHoje,', '17:0510Loft', 'com', '1', 'dormitório', 'para', 'alugar,', '27', 'm²', 'por', 'r$', '1.350,00/mês', '-', 'alto', '-', 'teresópolis/rj1', 'quarto', '|', '27m²', '|', '1', 'vaga', '|', 'R$', '1.350Teresópolis', '-', 'RJHoje,', '17:0520Cobertura', 'com', '2', 'Quartos,', '94', 'm²', '-', 'venda', 'por', 'R$', '450.000', 'ou', 'aluguel', 'por', 'R$', '1.400/mês', '-', 'Santa', '2', 'quartos', '|', '94m²', '|', 'Condomínio:', 'R$', '150', '|', '2', 'vagas', '|', 'R$', '1.400ProfissionalBelo', 'Horizonte', '-', 'MGHoje,', '17:057Casa', 'Vila', 'Formosa', 'São', 'Paulo/SP2', 'quartos', '|', '68m²', '|', 'Condomínio:', 'R$', '0', '|', 'R$', '1.685ProfissionalSão', 'Paulo', '-', 'SPHoje,', '17:0520PORTO', 'ALEGRE', '-', 'Apartamento', 'Padrão', '-', 'VILA', 'ASSUNCAO3', 'quartos', '|', '155m²', '|', 'Condomínio:', 'R$', '2.500', '|', '4', 'vagas', '|', 'R$', '25.000ProfissionalPorto', 'Alegre', '-', 'RSHoje,', '17:056Casa', 'com', 'lazer', 'privativo', ',', 'piscina', 'e', 'jacuzzi', 'com', '3', 'quartos', 'em', 'Ponta', 'Negra', '-', 'Natal', '-', 'RN3', 'quartos', '|', '300m²', '|', 'Condomínio:', 'R$', '0', '|', '4', 'vagas', '|', 'R$', '3.000ProfissionalNatal', '-', 'RNHoje,', '17:0520Apartamento', 'para', 'aluguel', 'possui', '87', 'metros', 'quadrados', 'com', '2', 'quartos2', 'quartos', '|', '87m²', '|', 'Condomínio:', 'R$', '680', '|', '1', 'vaga', '|', 'R$', '3.500ProfissionalSão', 'Paulo', '-', 'SPHoje,', '17:059Apartamento', 'de', '40', 'metros', 'quadrados', 'no', 'bairro', 'Centro', 'com', '1', 'quarto1', 'quarto', '|', '40m²', '|', 'Condomínio:', 'R$', '465', '|', 'R$', '800ProfissionalRio', 'de', 'Janeiro', '-', 'RJHoje,', '17:0520*TEMPORADA*', 'Excelente', 'Apartamento', 'Quadra', 'Mar', 'de', '2', 'Dormitórios', 'sendo', '1', 'Suite2', 'quartos', '|', '67m²', '|', 'Condomínio:', 'R$', '0', '|', '1', 'vaga', '|', 'R$', '500ProfissionalItapema', '-', 'SCHoje,', '17:0510ALUGO', 'NA', 'PEDREIRA', '2/4', 'E', '2', 'VAGAS2', 'quartos', '|', '76m²', '|', 'Condomínio:', 'R$', '1', '|', '2', 'vagas', '|', 'R$', '3.900ProfissionalBelém', '-', 'PAHoje,', '17:0514Apartamento', 'com', '3', 'dormitórios', 'à', 'venda,', '110', 'm²', 'por', 'R$', '350.000,00', '-', 'Centro', '-', 'Boituva/SP3', 'quartos', '|', '110m²', '|', 'Condomínio:', 'R$', '240', '|', '1', 'vaga', '|', 'R$', '1.800ProfissionalBoituva', '-', 'SPHoje,', '17:0520Apartamento', 'para', 'aluguel', 'e', 'venda', 'com', '164', 'metros', 'quadrados', 'com', '3', 'quartos3', 'quartos', '|', '164m²', '|', 'Condomínio:', 'R$', '0', '|', '4', 'vagas', '|', 'R$', '7.500ProfissionalSão', 'Paulo', '-', 'SPHoje,', '17:057Sobrado', 'para', 'aluguel', 'tem', '80', 'metros', 'quadrados', 'com', '2', 'quartos2', 'quartos', '|', '80m²', '|', 'Condomínio:', 'R$', '0', '|', '2', 'vagas', '|', 'R$', '2.200ProfissionalMogi', 'das', 'Cruzes', '-', 'SPHoje,', '17:0520Apartamento', 'com', '3', 'dormitórios', 'para', 'alugar,', '135', 'm²', 'por', 'R$', '5.000,00/mês', '-', 'Ponta', 'da', 'Praia', '-', 'S3', 'quartos', '|', '135m²', '|', 'Condomínio:', 'R$', '0', '|', '1', 'vaga', '|', 'R$', '5.000ProfissionalSantos', '-', 'SPHoje,', '17:0520Apartamento', 'para', 'aluguel', 'de', '01', 'quarto', 'com', '46', 'metros', 'quadrados.1', 'quarto', '|', '46m²', '|', 'Condomínio:', 'R$', '560', '|', 'R$', '1.300ProfissionalRio', 'de', 'Janeiro', '-', 'RJHoje,', '17:053CASA', 'NO', 'CONDOMÍNIO', 'RESIDENCIAL', 'ARAUCÁRIA2', 'quartos', '|', '50m²', '|', 'Condomínio:', 'R$', '90', '|', '1', 'vaga', '|', 'R$', '1.100ProfissionalFoz', 'do', 'Iguaçu', '-', 'PRHoje,', '17:0520Locação', 'Apartamento', '2', 'quartos', 'Monte', 'Serrat', 'Salvador2', 'quartos', '|', '160m²', '|', 'Condomínio:', 'R$', '0', '|', 'R$', '1.380ProfissionalSalvador', '-', 'BAHoje,', '17:05']\n"
          ]
        }
      ]
    },
    {
      "cell_type": "markdown",
      "source": [
        ""
      ],
      "metadata": {
        "id": "tfghZjHIMjf3"
      }
    },
    {
      "cell_type": "code",
      "source": [
        "ultima_pg = soup.find('span', class_=\"sc-1bofr6e-1 iUNkan sc-bdVaJa iGCgMJ\")"
      ],
      "metadata": {
        "id": "MO-_FM6ANFA6"
      },
      "execution_count": 5,
      "outputs": []
    },
    {
      "cell_type": "code",
      "source": [
        "descricao = soup.find('div',class_=\"sc-12rk7z2-5 fXzBqN\").getText().split()\n",
        "preco = soup.find('span', class_='m7nrfa-0 cjhQnm sc-bdVaJa cpfGxa').getText().split()\n",
        "quartos = soup.find('span', class_='sc-1ftm7qz-0 itsfPe sc-bdVaJa bxVNCd').getText().split()\n",
        "metros = soup.find('span', class_='sc-1ftm7qz-0 itsfPe sc-bdVaJa bxVNCd').getText().split()\n",
        "print('descrição do imovel: ', descricao)\n",
        "print('valor do aluguel: ', preco)\n",
        "print('quantidade de quartos: ', quartos)\n",
        "print('quantidade de quartos: ', metros)\n"
      ],
      "metadata": {
        "colab": {
          "base_uri": "https://localhost:8080/"
        },
        "id": "YsNM5I9iNPGO",
        "outputId": "493a92bc-d3df-40b9-a195-4ee4e9c6106f"
      },
      "execution_count": 6,
      "outputs": [
        {
          "output_type": "stream",
          "name": "stdout",
          "text": [
            "descrição do imovel:  ['Kitnet/conjugado', 'para', 'aluguel', 'tem', '31', 'metros', 'quadrados', 'com', '1', 'quarto', 'em', 'Bela', 'Vista', '-', 'São', 'Pau1', 'quarto', '|', '31m²', '|', 'Condomínio:', 'R$', '390', '|']\n",
            "valor do aluguel:  ['R$', '1.300']\n",
            "quantidade de quartos:  ['1', 'quarto']\n",
            "quantidade de quartos:  ['1', 'quarto']\n"
          ]
        }
      ]
    }
  ]
}